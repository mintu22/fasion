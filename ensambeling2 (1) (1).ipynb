{
 "cells": [
  {
   "cell_type": "markdown",
   "id": "2bf35ab3",
   "metadata": {},
   "source": [
    "# Ensambling Using Probabilties Sum"
   ]
  },
  {
   "cell_type": "code",
   "execution_count": 2,
   "id": "2d6b2e8b",
   "metadata": {},
   "outputs": [],
   "source": [
    "from tensorflow.keras.preprocessing.image import ImageDataGenerator\n",
    "\n",
    "train_datagen = ImageDataGenerator(rescale = 1./255,\n",
    "                                   shear_range = 0.2,\n",
    "                                   zoom_range = 0.2,\n",
    "                                   horizontal_flip = True)\n",
    "\n",
    "test_datagen = ImageDataGenerator(rescale = 1./255)\n",
    "test_covid_datagen = ImageDataGenerator(rescale = 1./255)\n",
    "#test_bacterial_pneumonia_datagen = ImageDataGenerator(rescale = 1./255)\n",
    "test_normal_datagen = ImageDataGenerator(rescale = 1./255)\n",
    "#test_viral_pneumonia_datagen = ImageDataGenerator(rescale = 1./255)\n",
    "#test_tuberculosis_datagen = ImageDataGenerator(rescale = 1./255)"
   ]
  },
  {
   "cell_type": "code",
   "execution_count": 3,
   "id": "09132aed",
   "metadata": {},
   "outputs": [
    {
     "name": "stdout",
     "output_type": "stream",
     "text": [
      "Found 15 images belonging to 1 classes.\n"
     ]
    }
   ],
   "source": [
    "test_set_disease = test_covid_datagen.flow_from_directory(r'D:\\Research\\New folder\\test_disease',\n",
    "                                                   target_size = (224,224))"
   ]
  },
  {
   "cell_type": "code",
   "execution_count": 4,
   "id": "4b8347ed",
   "metadata": {},
   "outputs": [
    {
     "name": "stdout",
     "output_type": "stream",
     "text": [
      "Found 15 images belonging to 1 classes.\n"
     ]
    }
   ],
   "source": [
    "test_set_normal = test_normal_datagen.flow_from_directory(r'D:\\Research\\New folder\\test_normal',\n",
    "                                                   target_size = (224,224))\n",
    "                                                   "
   ]
  },
  {
   "cell_type": "code",
   "execution_count": 5,
   "id": "f9397809",
   "metadata": {},
   "outputs": [],
   "source": [
    "from tensorflow.keras.models import Model, load_model\n",
    "from tensorflow.keras.layers import Input, Average\n",
    "model_1=load_model('new_tuber_2class_model_xception_trail1.h5')\n",
    "model_2=load_model('new_tuber_2class_model_vgg16_trail1.h5')\n",
    "model_3=load_model('new_tuber_2class_model_inceptionv3_trail1.h5')\n",
    "models=[model_1,model_2,model_3]\n"
   ]
  },
  {
   "cell_type": "code",
   "execution_count": 21,
   "id": "00cf3950",
   "metadata": {},
   "outputs": [
    {
     "name": "stdout",
     "output_type": "stream",
     "text": [
      "1/1 [==============================] - 7s 7s/step\n",
      "1/1 [==============================] - 19s 19s/step\n",
      "1/1 [==============================] - 4s 4s/step\n",
      "[array([[5.25651548e-25, 1.00000000e+00],\n",
      "       [1.50290839e-11, 1.00000000e+00],\n",
      "       [1.38854506e-19, 1.00000000e+00],\n",
      "       [1.60166083e-33, 1.00000000e+00],\n",
      "       [4.64905526e-28, 1.00000000e+00],\n",
      "       [1.51073706e-30, 1.00000000e+00],\n",
      "       [1.04877536e-14, 1.00000000e+00],\n",
      "       [1.00000000e+00, 8.99063322e-13],\n",
      "       [6.15489540e-33, 1.00000000e+00],\n",
      "       [1.00000000e+00, 0.00000000e+00],\n",
      "       [7.12430977e-29, 1.00000000e+00],\n",
      "       [3.84109514e-28, 1.00000000e+00],\n",
      "       [4.45431033e-05, 9.99955416e-01],\n",
      "       [0.00000000e+00, 1.00000000e+00],\n",
      "       [1.01162973e-22, 1.00000000e+00]], dtype=float32), array([[9.9585056e-01, 4.1494383e-03],\n",
      "       [1.0000000e+00, 4.3977053e-15],\n",
      "       [5.4031485e-10, 1.0000000e+00],\n",
      "       [1.2016068e-03, 9.9879837e-01],\n",
      "       [4.0227665e-11, 1.0000000e+00],\n",
      "       [2.7025726e-01, 7.2974271e-01],\n",
      "       [9.4406474e-01, 5.5935234e-02],\n",
      "       [9.9791759e-01, 2.0824119e-03],\n",
      "       [1.0000000e+00, 4.4742059e-08],\n",
      "       [2.1946707e-01, 7.8053290e-01],\n",
      "       [3.8478479e-06, 9.9999619e-01],\n",
      "       [1.5708924e-03, 9.9842912e-01],\n",
      "       [8.1682560e-04, 9.9918312e-01],\n",
      "       [9.9064660e-01, 9.3533760e-03],\n",
      "       [6.3462247e-04, 9.9936539e-01]], dtype=float32), array([[6.9401568e-01, 3.0598435e-01],\n",
      "       [1.3420014e-02, 9.8657995e-01],\n",
      "       [4.6199676e-02, 9.5380032e-01],\n",
      "       [4.4155601e-02, 9.5584440e-01],\n",
      "       [1.4320156e-01, 8.5679841e-01],\n",
      "       [2.7091691e-02, 9.7290832e-01],\n",
      "       [1.6382803e-01, 8.3617198e-01],\n",
      "       [2.8593527e-04, 9.9971408e-01],\n",
      "       [2.3351605e-03, 9.9766481e-01],\n",
      "       [3.0139703e-02, 9.6986032e-01],\n",
      "       [1.2619708e-02, 9.8738027e-01],\n",
      "       [8.9202845e-01, 1.0797159e-01],\n",
      "       [8.2361752e-01, 1.7638248e-01],\n",
      "       [8.1703227e-05, 9.9991834e-01],\n",
      "       [3.2208157e-03, 9.9677926e-01]], dtype=float32)]\n"
     ]
    }
   ],
   "source": [
    "preds=[model.predict(test_set_normal) for model in models]\n",
    "print(preds)"
   ]
  },
  {
   "cell_type": "code",
   "execution_count": 22,
   "id": "fbaf7588",
   "metadata": {},
   "outputs": [],
   "source": [
    "import numpy as np"
   ]
  },
  {
   "cell_type": "code",
   "execution_count": 24,
   "id": "60db902a",
   "metadata": {},
   "outputs": [],
   "source": [
    "summed=np.sum(preds,axis=0)"
   ]
  },
  {
   "cell_type": "code",
   "execution_count": 25,
   "id": "a4235bfb",
   "metadata": {},
   "outputs": [
    {
     "data": {
      "text/plain": [
       "array([[1.6898663 , 1.3101338 ],\n",
       "       [1.01342   , 1.9865799 ],\n",
       "       [0.04619968, 2.9538002 ],\n",
       "       [0.04535721, 2.9546428 ],\n",
       "       [0.14320156, 2.8567984 ],\n",
       "       [0.29734895, 2.702651  ],\n",
       "       [1.1078928 , 1.8921072 ],\n",
       "       [1.9982036 , 1.0017965 ],\n",
       "       [1.0023352 , 1.9976648 ],\n",
       "       [1.2496067 , 1.7503932 ],\n",
       "       [0.01262356, 2.9873765 ],\n",
       "       [0.89359933, 2.1064007 ],\n",
       "       [0.82447886, 2.1755211 ],\n",
       "       [0.9907283 , 2.0092716 ],\n",
       "       [0.00385544, 2.9961445 ]], dtype=float32)"
      ]
     },
     "execution_count": 25,
     "metadata": {},
     "output_type": "execute_result"
    }
   ],
   "source": [
    "summed"
   ]
  },
  {
   "cell_type": "code",
   "execution_count": 26,
   "id": "1eb49acf",
   "metadata": {},
   "outputs": [],
   "source": [
    "arga=np.argmax(summed,axis=1)"
   ]
  },
  {
   "cell_type": "code",
   "execution_count": 27,
   "id": "deec8def",
   "metadata": {},
   "outputs": [
    {
     "data": {
      "text/plain": [
       "array([0, 1, 1, 1, 1, 1, 1, 0, 1, 1, 1, 1, 1, 1, 1], dtype=int64)"
      ]
     },
     "execution_count": 27,
     "metadata": {},
     "output_type": "execute_result"
    }
   ],
   "source": [
    "arga"
   ]
  },
  {
   "cell_type": "code",
   "execution_count": 14,
   "id": "3404326f",
   "metadata": {},
   "outputs": [
    {
     "name": "stdout",
     "output_type": "stream",
     "text": [
      "1/1 [==============================] - 7s 7s/step\n",
      "1/1 [==============================] - 19s 19s/step\n",
      "1/1 [==============================] - 4s 4s/step\n"
     ]
    }
   ],
   "source": [
    "preds_disease=[model.predict(test_set_disease) for model in models]"
   ]
  },
  {
   "cell_type": "code",
   "execution_count": 15,
   "id": "3d0b8780",
   "metadata": {},
   "outputs": [
    {
     "data": {
      "text/plain": [
       "[array([[1.000000e+00, 0.000000e+00],\n",
       "        [1.000000e+00, 0.000000e+00],\n",
       "        [1.000000e+00, 0.000000e+00],\n",
       "        [1.000000e+00, 0.000000e+00],\n",
       "        [7.293141e-07, 9.999993e-01],\n",
       "        [1.000000e+00, 0.000000e+00],\n",
       "        [1.000000e+00, 0.000000e+00],\n",
       "        [1.000000e+00, 0.000000e+00],\n",
       "        [1.000000e+00, 0.000000e+00],\n",
       "        [1.000000e+00, 0.000000e+00],\n",
       "        [1.000000e+00, 0.000000e+00],\n",
       "        [1.000000e+00, 0.000000e+00],\n",
       "        [1.000000e+00, 0.000000e+00],\n",
       "        [1.000000e+00, 0.000000e+00],\n",
       "        [1.000000e+00, 0.000000e+00]], dtype=float32),\n",
       " array([[1.0000000e+00, 2.7238843e-17],\n",
       "        [1.0000000e+00, 3.5235154e-10],\n",
       "        [9.9999976e-01, 2.1040780e-07],\n",
       "        [1.0000000e+00, 1.0813351e-17],\n",
       "        [1.0000000e+00, 7.0627821e-20],\n",
       "        [1.0000000e+00, 4.2339315e-14],\n",
       "        [1.0000000e+00, 1.1742670e-12],\n",
       "        [1.0000000e+00, 1.1896761e-19],\n",
       "        [1.0000000e+00, 2.3946678e-09],\n",
       "        [1.0000000e+00, 5.0231036e-15],\n",
       "        [1.0000000e+00, 2.7286447e-19],\n",
       "        [1.0000000e+00, 8.2808170e-14],\n",
       "        [1.0000000e+00, 1.7788358e-21],\n",
       "        [1.0000000e+00, 1.2195073e-10],\n",
       "        [7.5280076e-01, 2.4719925e-01]], dtype=float32),\n",
       " array([[9.9524057e-01, 4.7594081e-03],\n",
       "        [9.9944812e-01, 5.5192813e-04],\n",
       "        [9.8882782e-01, 1.1172246e-02],\n",
       "        [3.2438734e-01, 6.7561263e-01],\n",
       "        [9.9925846e-01, 7.4151432e-04],\n",
       "        [9.9854553e-01, 1.4545047e-03],\n",
       "        [6.9008952e-01, 3.0991051e-01],\n",
       "        [8.1267834e-01, 1.8732165e-01],\n",
       "        [8.1519765e-01, 1.8480232e-01],\n",
       "        [9.7917855e-01, 2.0821448e-02],\n",
       "        [9.9813157e-01, 1.8684979e-03],\n",
       "        [9.9997914e-01, 2.0853928e-05],\n",
       "        [9.9998188e-01, 1.8136821e-05],\n",
       "        [9.9998224e-01, 1.7751259e-05],\n",
       "        [9.4750866e-02, 9.0524912e-01]], dtype=float32)]"
      ]
     },
     "execution_count": 15,
     "metadata": {},
     "output_type": "execute_result"
    }
   ],
   "source": [
    "preds_disease"
   ]
  },
  {
   "cell_type": "code",
   "execution_count": 16,
   "id": "45e4c15b",
   "metadata": {},
   "outputs": [],
   "source": [
    "summed_disease=np.sum(preds_disease,axis=0)"
   ]
  },
  {
   "cell_type": "code",
   "execution_count": 17,
   "id": "6eaba265",
   "metadata": {},
   "outputs": [
    {
     "data": {
      "text/plain": [
       "array([[2.9952407e+00, 4.7594081e-03],\n",
       "       [2.9994481e+00, 5.5192848e-04],\n",
       "       [2.9888277e+00, 1.1172457e-02],\n",
       "       [2.3243873e+00, 6.7561263e-01],\n",
       "       [1.9992592e+00, 1.0007408e+00],\n",
       "       [2.9985456e+00, 1.4545047e-03],\n",
       "       [2.6900895e+00, 3.0991051e-01],\n",
       "       [2.8126783e+00, 1.8732165e-01],\n",
       "       [2.8151977e+00, 1.8480232e-01],\n",
       "       [2.9791784e+00, 2.0821448e-02],\n",
       "       [2.9981315e+00, 1.8684979e-03],\n",
       "       [2.9999790e+00, 2.0853928e-05],\n",
       "       [2.9999819e+00, 1.8136821e-05],\n",
       "       [2.9999824e+00, 1.7751381e-05],\n",
       "       [1.8475516e+00, 1.1524484e+00]], dtype=float32)"
      ]
     },
     "execution_count": 17,
     "metadata": {},
     "output_type": "execute_result"
    }
   ],
   "source": [
    "summed_disease"
   ]
  },
  {
   "cell_type": "code",
   "execution_count": 18,
   "id": "9e21b7e1",
   "metadata": {},
   "outputs": [],
   "source": [
    "prediction_disease=np.argmax(summed_disease, axis=1)"
   ]
  },
  {
   "cell_type": "code",
   "execution_count": 19,
   "id": "cd1073ef",
   "metadata": {},
   "outputs": [
    {
     "data": {
      "text/plain": [
       "array([0, 0, 0, 0, 0, 0, 0, 0, 0, 0, 0, 0, 0, 0, 0], dtype=int64)"
      ]
     },
     "execution_count": 19,
     "metadata": {},
     "output_type": "execute_result"
    }
   ],
   "source": [
    "prediction_disease"
   ]
  },
  {
   "cell_type": "code",
   "execution_count": 28,
   "id": "59f0dee2",
   "metadata": {},
   "outputs": [
    {
     "name": "stdout",
     "output_type": "stream",
     "text": [
      "[0, 1, 1, 1, 1, 1, 1, 0, 1, 1, 1, 1, 1, 1, 1, 0, 0, 0, 0, 0, 0, 0, 0, 0, 0, 0, 0, 0, 0, 0]\n"
     ]
    }
   ],
   "source": [
    "y_preds=[]\n",
    "y_preds.extend(arga)\n",
    "y_preds.extend(prediction_disease)\n",
    "print(y_preds)"
   ]
  },
  {
   "cell_type": "code",
   "execution_count": 29,
   "id": "b76ddd04",
   "metadata": {},
   "outputs": [
    {
     "name": "stdout",
     "output_type": "stream",
     "text": [
      "[0, 0, 0, 0, 0, 0, 0, 0, 0, 0, 0, 0, 0, 0, 0, 1, 1, 1, 1, 1, 1, 1, 1, 1, 1, 1, 1, 1, 1, 1]\n"
     ]
    }
   ],
   "source": [
    "b=[0]\n",
    "b_actual=(b*15)\n",
    "#c=[0]\n",
    "#c_actual=(c*70)\n",
    "d=[1]\n",
    "d_actual=(d*15)\n",
    "#e=[2]\n",
    "#e_actual=(e*135)\n",
    "y_actual = []\n",
    "#y_actual.extend(a_actual)\n",
    "y_actual.extend(b_actual)\n",
    "y_actual.extend(d_actual)\n",
    "#y_actual.extend(d_actual)\n",
    "#y_actual.extend(e_actual)\n",
    "print(y_actual)"
   ]
  },
  {
   "cell_type": "code",
   "execution_count": 30,
   "id": "dd8a0305",
   "metadata": {},
   "outputs": [],
   "source": [
    "from sklearn.metrics import confusion_matrix, classification_report"
   ]
  },
  {
   "cell_type": "code",
   "execution_count": 31,
   "id": "61b0af5d",
   "metadata": {},
   "outputs": [],
   "source": [
    "cm = confusion_matrix(y_actual, y_preds)"
   ]
  },
  {
   "cell_type": "code",
   "execution_count": 32,
   "id": "5453269b",
   "metadata": {},
   "outputs": [],
   "source": [
    "import seaborn as sns"
   ]
  },
  {
   "cell_type": "code",
   "execution_count": 33,
   "id": "e86bc51a",
   "metadata": {},
   "outputs": [
    {
     "data": {
      "text/plain": [
       "<AxesSubplot:>"
      ]
     },
     "execution_count": 33,
     "metadata": {},
     "output_type": "execute_result"
    },
    {
     "data": {
      "image/png": "[encoded data removed]",
      "text/plain": [
       "<Figure size 432x288 with 2 Axes>"
      ]
     },
     "metadata": {
      "needs_background": "light"
     },
     "output_type": "display_data"
    }
   ],
   "source": [
    "sns.heatmap(cm, cmap=\"plasma\", annot=True)"
   ]
  },
  {
   "cell_type": "markdown",
   "id": "c6a7f923",
   "metadata": {},
   "source": []
  },
  {
   "cell_type": "code",
   "execution_count": null,
   "id": "9d919b42",
   "metadata": {},
   "outputs": [],
   "source": []
  },
  {
   "cell_type": "markdown",
   "id": "4a4a9ea7",
   "metadata": {},
   "source": [
    "# Ensambling using Mode"
   ]
  },
  {
   "cell_type": "code",
   "execution_count": 30,
   "id": "52ce4116",
   "metadata": {},
   "outputs": [],
   "source": [
    "import pandas as pd"
   ]
  },
  {
   "cell_type": "code",
   "execution_count": null,
   "id": "eb1c3bc8",
   "metadata": {},
   "outputs": [
    {
     "name": "stdout",
     "output_type": "stream",
     "text": [
      "1/1 [==============================] - 6s 6s/step\n"
     ]
    }
   ],
   "source": [
    "c=[]\n",
    "for classifier in models:\n",
    "    \n",
    "    classifier=classifier\n",
    "    predictprob=classifier.predict(test_set_normal,verbose=1)\n",
    "    preds=np.argmax(predictprob,axis=1)\n",
    "    c.append(preds)"
   ]
  },
  {
   "cell_type": "code",
   "execution_count": 47,
   "id": "536f0e58",
   "metadata": {
    "collapsed": true
   },
   "outputs": [
    {
     "name": "stdout",
     "output_type": "stream",
     "text": [
      "[array([1, 1, 1, 1, 1, 1, 1, 1, 1, 1, 0, 1, 1, 1, 0], dtype=int64), array([1, 1, 0, 1, 0, 0, 1, 1, 1, 0, 1, 1, 0, 1, 0], dtype=int64), array([1, 1, 1, 1, 0, 1, 1, 1, 1, 1, 1, 1, 0, 1, 0], dtype=int64)]\n"
     ]
    }
   ],
   "source": [
    "#print(c)\n",
    "c_new=np.array(c)"
   ]
  },
  {
   "cell_type": "code",
   "execution_count": 42,
   "id": "a5a3f6ad",
   "metadata": {
    "scrolled": true
   },
   "outputs": [],
   "source": [
    "df_dataframe=pd.DataFrame(c_new.reshape(15,3))"
   ]
  },
  {
   "cell_type": "code",
   "execution_count": 43,
   "id": "399b702d",
   "metadata": {},
   "outputs": [
    {
     "data": {
      "text/html": [
       "<div>\n",
       "<style scoped>\n",
       "    .dataframe tbody tr th:only-of-type {\n",
       "        vertical-align: middle;\n",
       "    }\n",
       "\n",
       "    .dataframe tbody tr th {\n",
       "        vertical-align: top;\n",
       "    }\n",
       "\n",
       "    .dataframe thead th {\n",
       "        text-align: right;\n",
       "    }\n",
       "</style>\n",
       "<table border=\"1\" class=\"dataframe\">\n",
       "  <thead>\n",
       "    <tr style=\"text-align: right;\">\n",
       "      <th></th>\n",
       "      <th>0</th>\n",
       "      <th>1</th>\n",
       "      <th>2</th>\n",
       "    </tr>\n",
       "  </thead>\n",
       "  <tbody>\n",
       "    <tr>\n",
       "      <th>0</th>\n",
       "      <td>1</td>\n",
       "      <td>1</td>\n",
       "      <td>1</td>\n",
       "    </tr>\n",
       "    <tr>\n",
       "      <th>1</th>\n",
       "      <td>1</td>\n",
       "      <td>1</td>\n",
       "      <td>1</td>\n",
       "    </tr>\n",
       "    <tr>\n",
       "      <th>2</th>\n",
       "      <td>1</td>\n",
       "      <td>1</td>\n",
       "      <td>1</td>\n",
       "    </tr>\n",
       "    <tr>\n",
       "      <th>3</th>\n",
       "      <td>1</td>\n",
       "      <td>0</td>\n",
       "      <td>1</td>\n",
       "    </tr>\n",
       "    <tr>\n",
       "      <th>4</th>\n",
       "      <td>1</td>\n",
       "      <td>1</td>\n",
       "      <td>0</td>\n",
       "    </tr>\n",
       "    <tr>\n",
       "      <th>5</th>\n",
       "      <td>1</td>\n",
       "      <td>1</td>\n",
       "      <td>0</td>\n",
       "    </tr>\n",
       "    <tr>\n",
       "      <th>6</th>\n",
       "      <td>1</td>\n",
       "      <td>0</td>\n",
       "      <td>0</td>\n",
       "    </tr>\n",
       "    <tr>\n",
       "      <th>7</th>\n",
       "      <td>1</td>\n",
       "      <td>1</td>\n",
       "      <td>1</td>\n",
       "    </tr>\n",
       "    <tr>\n",
       "      <th>8</th>\n",
       "      <td>0</td>\n",
       "      <td>1</td>\n",
       "      <td>1</td>\n",
       "    </tr>\n",
       "    <tr>\n",
       "      <th>9</th>\n",
       "      <td>0</td>\n",
       "      <td>1</td>\n",
       "      <td>0</td>\n",
       "    </tr>\n",
       "    <tr>\n",
       "      <th>10</th>\n",
       "      <td>1</td>\n",
       "      <td>1</td>\n",
       "      <td>1</td>\n",
       "    </tr>\n",
       "    <tr>\n",
       "      <th>11</th>\n",
       "      <td>1</td>\n",
       "      <td>0</td>\n",
       "      <td>1</td>\n",
       "    </tr>\n",
       "    <tr>\n",
       "      <th>12</th>\n",
       "      <td>1</td>\n",
       "      <td>1</td>\n",
       "      <td>1</td>\n",
       "    </tr>\n",
       "    <tr>\n",
       "      <th>13</th>\n",
       "      <td>1</td>\n",
       "      <td>1</td>\n",
       "      <td>1</td>\n",
       "    </tr>\n",
       "    <tr>\n",
       "      <th>14</th>\n",
       "      <td>0</td>\n",
       "      <td>1</td>\n",
       "      <td>0</td>\n",
       "    </tr>\n",
       "  </tbody>\n",
       "</table>\n",
       "</div>"
      ],
      "text/plain": [
       "    0  1  2\n",
       "0   1  1  1\n",
       "1   1  1  1\n",
       "2   1  1  1\n",
       "3   1  0  1\n",
       "4   1  1  0\n",
       "5   1  1  0\n",
       "6   1  0  0\n",
       "7   1  1  1\n",
       "8   0  1  1\n",
       "9   0  1  0\n",
       "10  1  1  1\n",
       "11  1  0  1\n",
       "12  1  1  1\n",
       "13  1  1  1\n",
       "14  0  1  0"
      ]
     },
     "execution_count": 43,
     "metadata": {},
     "output_type": "execute_result"
    }
   ],
   "source": [
    "df_dataframe"
   ]
  },
  {
   "cell_type": "code",
   "execution_count": 45,
   "id": "8ef1c4af",
   "metadata": {},
   "outputs": [
    {
     "data": {
      "text/html": [
       "<div>\n",
       "<style scoped>\n",
       "    .dataframe tbody tr th:only-of-type {\n",
       "        vertical-align: middle;\n",
       "    }\n",
       "\n",
       "    .dataframe tbody tr th {\n",
       "        vertical-align: top;\n",
       "    }\n",
       "\n",
       "    .dataframe thead th {\n",
       "        text-align: right;\n",
       "    }\n",
       "</style>\n",
       "<table border=\"1\" class=\"dataframe\">\n",
       "  <thead>\n",
       "    <tr style=\"text-align: right;\">\n",
       "      <th></th>\n",
       "      <th>0</th>\n",
       "    </tr>\n",
       "  </thead>\n",
       "  <tbody>\n",
       "    <tr>\n",
       "      <th>0</th>\n",
       "      <td>1</td>\n",
       "    </tr>\n",
       "    <tr>\n",
       "      <th>1</th>\n",
       "      <td>1</td>\n",
       "    </tr>\n",
       "    <tr>\n",
       "      <th>2</th>\n",
       "      <td>1</td>\n",
       "    </tr>\n",
       "    <tr>\n",
       "      <th>3</th>\n",
       "      <td>1</td>\n",
       "    </tr>\n",
       "    <tr>\n",
       "      <th>4</th>\n",
       "      <td>1</td>\n",
       "    </tr>\n",
       "    <tr>\n",
       "      <th>5</th>\n",
       "      <td>1</td>\n",
       "    </tr>\n",
       "    <tr>\n",
       "      <th>6</th>\n",
       "      <td>0</td>\n",
       "    </tr>\n",
       "    <tr>\n",
       "      <th>7</th>\n",
       "      <td>1</td>\n",
       "    </tr>\n",
       "    <tr>\n",
       "      <th>8</th>\n",
       "      <td>1</td>\n",
       "    </tr>\n",
       "    <tr>\n",
       "      <th>9</th>\n",
       "      <td>0</td>\n",
       "    </tr>\n",
       "    <tr>\n",
       "      <th>10</th>\n",
       "      <td>1</td>\n",
       "    </tr>\n",
       "    <tr>\n",
       "      <th>11</th>\n",
       "      <td>1</td>\n",
       "    </tr>\n",
       "    <tr>\n",
       "      <th>12</th>\n",
       "      <td>1</td>\n",
       "    </tr>\n",
       "    <tr>\n",
       "      <th>13</th>\n",
       "      <td>1</td>\n",
       "    </tr>\n",
       "    <tr>\n",
       "      <th>14</th>\n",
       "      <td>0</td>\n",
       "    </tr>\n",
       "  </tbody>\n",
       "</table>\n",
       "</div>"
      ],
      "text/plain": [
       "    0\n",
       "0   1\n",
       "1   1\n",
       "2   1\n",
       "3   1\n",
       "4   1\n",
       "5   1\n",
       "6   0\n",
       "7   1\n",
       "8   1\n",
       "9   0\n",
       "10  1\n",
       "11  1\n",
       "12  1\n",
       "13  1\n",
       "14  0"
      ]
     },
     "execution_count": 45,
     "metadata": {},
     "output_type": "execute_result"
    }
   ],
   "source": [
    "df_dataframe.mode(axis=1)"
   ]
  },
  {
   "cell_type": "code",
   "execution_count": null,
   "id": "75e31490",
   "metadata": {},
   "outputs": [],
   "source": []
  }
 ],
 "metadata": {
  "kernelspec": {
   "display_name": "Python 3 (ipykernel)",
   "language": "python",
   "name": "python3"
  },
  "language_info": {
   "codemirror_mode": {
    "name": "ipython",
    "version": 3
   },
   "file_extension": ".py",
   "mimetype": "text/x-python",
   "name": "python",
   "nbconvert_exporter": "python",
   "pygments_lexer": "ipython3",
   "version": "3.9.13"
  }
 },
 "nbformat": 4,
 "nbformat_minor": 5
}
